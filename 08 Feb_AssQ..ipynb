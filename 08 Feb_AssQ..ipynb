{
 "cells": [
  {
   "cell_type": "code",
   "execution_count": null,
   "id": "cd6ff67f-ac91-4b02-a249-1e9d9c7c816c",
   "metadata": {},
   "outputs": [],
   "source": [
    "Q.1> What is Abstraction in OOps? Explain with an example.\n",
    "Ans> Abstraction is one of the core concepts of object-oriented programming (OOP).\n",
    "     It refers to the process of hiding the implementation details of a particular\n",
    "     object or system, and exposing only the essential characteristics or behaviors \n",
    "     that are relevant to the users. This allows the users to interact with the object\n",
    "     or system in a simplified, user-friendly manner, without having to worry about the\n",
    "     underlying complexity.\n",
    "\n",
    "     For example, consider a car. When you drive a car, you don't need to know about the\n",
    "     internal workings of the engine, transmission, or fuel system. You just need to know \n",
    "     how to start the car, accelerate, brake, and steer. This simplified view of a car is\n",
    "     an example of abstraction. The essential details of a car are exposed, while the internal\n",
    "     complexities are hidden.\n",
    "\n"
   ]
  },
  {
   "cell_type": "code",
   "execution_count": null,
   "id": "2497029b-f6d5-4d86-8145-6cf6a87d32bf",
   "metadata": {},
   "outputs": [],
   "source": [
    "Q.2> Differentiate between Abstraction and Encapsulation. Explain with an .\n",
    "Ans> Abstraction is the process of hiding the implementation details of an object or system \n",
    "     and exposing only the essential characteristics or behaviors that are relevant to the users.\n",
    "     The goal of abstraction is to simplify the interaction between the user and the object or system.\n",
    "     For example, a car is an abstraction of a complex system that includes an engine, transmission, and fuel system.\n",
    "\n",
    "     Encapsulation, on the other hand, is the process of wrapping data and behavior within a single unit or object.\n",
    "     This allows you to keep the implementation details of an object hidden and protect them from external \n",
    "     modifications. Encapsulation also helps to promote modularity and reusability by allowing you to create \n",
    "     self-contained objects that can be used and reused in different parts of a system"
   ]
  },
  {
   "cell_type": "code",
   "execution_count": null,
   "id": "3458554a-bee2-4581-b921-becebad315d3",
   "metadata": {},
   "outputs": [],
   "source": [
    "Q.3> What is abc module in python? Why is it used?\n",
    "Ans> The abc module in Python is the abstract base class module. It provides a way to define\n",
    "     abstract base classes (ABCs) in Python. An ABC is a class that cannot be instantiated on \n",
    "     its own, but can be subclassed by concrete classes to define a common interface. ABCs are\n",
    "     used to define a common interface or protocol for a group of related objects, so that they \n",
    "     can be treated interchangeably in a generic way."
   ]
  },
  {
   "cell_type": "code",
   "execution_count": null,
   "id": "478ad1a7-41ca-47e5-9845-c21909bab781",
   "metadata": {},
   "outputs": [],
   "source": [
    "Q.4> How can we achieve data abstraction?\n",
    "Ans> Data abstraction is the process of hiding the implementation details of data structures\n",
    "     and exposing only the essential characteristics and behaviors that are relevant to the users.\n",
    "     There are several ways to achieve data abstraction in programming:\n",
    "\n",
    "        1.Encapsulation: Encapsulation is the process of wrapping data and behavior within a single\n",
    "          unit or object. In OOP, this is achieved by defining classes and objects that encapsulate\n",
    "          the data and behavior of the system. By using classes and objects, you can hide the \n",
    "          implementation details of a data structure and provide a simplified interface for accessing\n",
    "          and manipulating the data.\n",
    "\n",
    "        2.Abstract Data Types (ADT): An ADT is a data type that is defined in terms of its behavior\n",
    "          and the operations that can be performed on it, rather than its implementation. An ADT can \n",
    "          be thought of as a blueprint for creating concrete data structures that implement the ADT's behavior.\n",
    "        \n",
    "        3.Interfaces: An interface is a contract that defines a set of methods or attributes that must be\n",
    "          implemented by any class that implements the interface. Interfaces can be used to define a common\n",
    "          interface or protocol for a group of related objects, so that they can be treated interchangeably\n",
    "          in a generic way.\n",
    "\n",
    "        4.Modules: A module is a self-contained unit of code that encapsulates data and behavior.\n",
    "          Modules provide a way to organize code into reusable components and hide the implementation\n",
    "          details of the code from other parts of the system."
   ]
  },
  {
   "cell_type": "code",
   "execution_count": null,
   "id": "40049f72-71a2-4c99-9dc8-8da91334650e",
   "metadata": {},
   "outputs": [],
   "source": [
    "Q.5> Can we create an instance of an abstract class? Explain your answer.\n",
    "Ans> No, you cannot create an instance of an abstract class. An abstract class is a class that is\n",
    "     intended to be subclassed and not instantiated on its own. An abstract class defines an interface\n",
    "     or a common set of methods and attributes that must be implemented by its concrete subclasses.\n",
    "\n",
    "    The purpose of an abstract class is to provide a common base class for a group of related objects \n",
    "    and enforce a common interface. By definition, an abstract class cannot be instantiated, as it does not provide a complete implementation of the interface it defines. Instead, concrete subclasses must be created that inherit from the abstract class and provide a complete implementation of the methods and attributes defined by the abstract class."
   ]
  }
 ],
 "metadata": {
  "kernelspec": {
   "display_name": "Python 3 (ipykernel)",
   "language": "python",
   "name": "python3"
  },
  "language_info": {
   "codemirror_mode": {
    "name": "ipython",
    "version": 3
   },
   "file_extension": ".py",
   "mimetype": "text/x-python",
   "name": "python",
   "nbconvert_exporter": "python",
   "pygments_lexer": "ipython3",
   "version": "3.10.8"
  }
 },
 "nbformat": 4,
 "nbformat_minor": 5
}
